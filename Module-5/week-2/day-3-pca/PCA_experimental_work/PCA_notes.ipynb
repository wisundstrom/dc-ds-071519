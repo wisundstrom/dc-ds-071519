{
 "cells": [
  {
   "cell_type": "markdown",
   "metadata": {},
   "source": [
    "## Unsupervised learning Intro\n",
    "\n",
    "photo here - diagram?\n",
    "\n",
    "Why do we need them\n",
    "\n",
    "- Data visualization\n",
    "\n",
    "- Dimension Reduction - Data Processing\n",
    "\n",
    "- Clustering\n",
    "\n",
    "__Comparison with Supervised Learning__\n",
    "\n",
    "- No obvious goals\n",
    "\n",
    "- No universally agreed mechanism for assessment\n",
    "\n",
    "## PCA\n",
    "\n",
    "finds a low-dimensional represen- tation of a data set that contains as much as possible of the variation\n",
    "\n",
    "Two different approach for the same process\n",
    "\n",
    "- find the directions that captures most within the dataset\n",
    "\n",
    "- These directions also define lines and subspaces that are as close as possible to the data cloud. \n",
    "\n",
    "-- When faced with a large set of corre- lated variables, principal components allow us to summarize this set with a smaller number of representative variables that collectively explain most of the variability in the original set.\n",
    "\n",
    "\n",
    "<center> <h3> What are the Principal Directions </h3> </center>\n",
    "\n",
    "<img src= \"img/first_principal_component.png\" style=\"height:100px\">\n",
    "\n",
    "__Notation__ $\\phi_{11}, \\cdots, \\phi_{p1}$ are called loadings and $\\phi_{1} = (\\phi_{11}, \\cdots, \\phi_{p1})^{\\intercal}$ is called _the first principal component_ \n",
    "\n",
    "Q: How do we find $\\phi_{1}$ given a dataset $X = [X_{1}, \\cdots, X_{p}]$?\n",
    "\n",
    "__Remark__ We will assume that the data is centralized: that is to say $\\bar{X_{i}} = \\frac{1}{n}\\sum_{j=1}^{n}x_{ij} = 0$\n",
    "\n",
    "A: $$ z_{i1} = \\phi_{11}x_{i1} + \\cdots + \\phi_{p1}x_{ip}$$  with a condition\n",
    "\n",
    "$$\\sum_{i = 1}^{p} \\phi_{j1}^{2} = 1$$\n",
    "\n",
    "Then the problem becomes\n",
    "\n",
    "<img src= \"img/optimization_problem.png\" style=\"height:100px\">\n",
    "\n",
    "\n",
    "or equivalently:\n",
    "\n",
    "$$ \\max_{\\phi_{11}, \\cdots, \\phi_{p1}}\\frac{1}{n} \\sum_{i = 1}^{n} z_{i1}^{2} \\qquad  \\text{subject to} \\quad \\sum_{j=1}^{p} \\phi_{j1}^{2}=1$$"
   ]
  },
  {
   "cell_type": "markdown",
   "metadata": {},
   "source": [
    "### Some Experiments on Scaling Data"
   ]
  },
  {
   "cell_type": "code",
   "execution_count": 1,
   "metadata": {},
   "outputs": [],
   "source": [
    "import numpy as np\n",
    "\n",
    "import pandas as pd\n",
    "\n",
    "import matplotlib.pyplot as plt\n",
    "\n",
    "from sklearn.preprocessing import StandardScaler\n",
    "\n",
    "from sklearn.preprocessing import Normalizer\n",
    "\n",
    "from sklearn.preprocessing import MinMaxScaler"
   ]
  },
  {
   "cell_type": "code",
   "execution_count": 2,
   "metadata": {},
   "outputs": [],
   "source": [
    "binomial = np.random.binomial(1, 0.2, 100)"
   ]
  },
  {
   "cell_type": "code",
   "execution_count": 3,
   "metadata": {},
   "outputs": [
    {
     "data": {
      "text/plain": [
       "(array([0, 1]), array([81, 19]))"
      ]
     },
     "execution_count": 3,
     "metadata": {},
     "output_type": "execute_result"
    }
   ],
   "source": [
    "binomial\n",
    "\n",
    "np.unique(binomial, return_counts= True)"
   ]
  },
  {
   "cell_type": "code",
   "execution_count": 4,
   "metadata": {},
   "outputs": [
    {
     "name": "stdout",
     "output_type": "stream",
     "text": [
      "0.3923009049186606 0.15389999999999998\n"
     ]
    }
   ],
   "source": [
    "print(np.std(binomial), np.var(binomial) )"
   ]
  },
  {
   "cell_type": "code",
   "execution_count": 5,
   "metadata": {},
   "outputs": [],
   "source": [
    "std_scaler = StandardScaler()"
   ]
  },
  {
   "cell_type": "code",
   "execution_count": 6,
   "metadata": {},
   "outputs": [],
   "source": [
    "s_binomial = std_scaler.fit_transform(binomial.reshape(-1,1))"
   ]
  },
  {
   "cell_type": "code",
   "execution_count": 7,
   "metadata": {},
   "outputs": [
    {
     "name": "stdout",
     "output_type": "stream",
     "text": [
      "1.0\n"
     ]
    },
    {
     "data": {
      "image/png": "[encoded data removed]",
      "text/plain": [
       "<Figure size 432x288 with 1 Axes>"
      ]
     },
     "metadata": {
      "needs_background": "light"
     },
     "output_type": "display_data"
    }
   ],
   "source": [
    "plt.hist(s_binomial)\n",
    "print(np.std(s_binomial))"
   ]
  },
  {
   "cell_type": "code",
   "execution_count": 15,
   "metadata": {},
   "outputs": [],
   "source": [
    "chi_squared = np.random.chisquare(4, size = 100)"
   ]
  },
  {
   "cell_type": "code",
   "execution_count": 16,
   "metadata": {},
   "outputs": [
    {
     "data": {
      "text/plain": [
       "(array([17., 31., 13., 13., 10.,  8.,  3.,  2.,  1.,  2.]),\n",
       " array([ 0.2772056 ,  1.74832311,  3.21944063,  4.69055814,  6.16167566,\n",
       "         7.63279317,  9.10391069, 10.5750282 , 12.04614572, 13.51726323,\n",
       "        14.98838075]),\n",
       " <a list of 10 Patch objects>)"
      ]
     },
     "execution_count": 16,
     "metadata": {},
     "output_type": "execute_result"
    },
    {
     "data": {
      "image/png": "[encoded data removed]",
      "text/plain": [
       "<Figure size 432x288 with 1 Axes>"
      ]
     },
     "metadata": {
      "needs_background": "light"
     },
     "output_type": "display_data"
    }
   ],
   "source": [
    "plt.hist(chi_squared)"
   ]
  },
  {
   "cell_type": "code",
   "execution_count": 17,
   "metadata": {},
   "outputs": [],
   "source": [
    "ss = StandardScaler()\n",
    "\n",
    "s_chi_squared = ss.fit_transform(chi_squared.reshape(-1,1))"
   ]
  },
  {
   "cell_type": "code",
   "execution_count": 18,
   "metadata": {},
   "outputs": [
    {
     "data": {
      "text/plain": [
       "(array([17., 31., 13., 13., 10.,  8.,  3.,  2.,  1.,  2.]),\n",
       " array([-1.33300774, -0.85510503, -0.37720232,  0.10070039,  0.5786031 ,\n",
       "         1.05650581,  1.53440852,  2.01231123,  2.49021394,  2.96811665,\n",
       "         3.44601936]),\n",
       " <a list of 10 Patch objects>)"
      ]
     },
     "execution_count": 18,
     "metadata": {},
     "output_type": "execute_result"
    },
    {
     "data": {
      "image/png": "[encoded data removed]",
      "text/plain": [
       "<Figure size 432x288 with 1 Axes>"
      ]
     },
     "metadata": {
      "needs_background": "light"
     },
     "output_type": "display_data"
    }
   ],
   "source": [
    "plt.hist(s_chi_squared)"
   ]
  },
  {
   "cell_type": "code",
   "execution_count": 43,
   "metadata": {},
   "outputs": [
    {
     "name": "stdout",
     "output_type": "stream",
     "text": [
      "1.0 -1.1102230246251565e-16\n"
     ]
    }
   ],
   "source": [
    "print(np.var(s_chi_squared), np.mean(s_chi_squared))"
   ]
  },
  {
   "cell_type": "code",
   "execution_count": 13,
   "metadata": {},
   "outputs": [],
   "source": [
    "mm = MinMaxScaler()"
   ]
  },
  {
   "cell_type": "code",
   "execution_count": 14,
   "metadata": {},
   "outputs": [
    {
     "name": "stdout",
     "output_type": "stream",
     "text": [
      "7.560089557052873 3.6399736887555396\n"
     ]
    },
    {
     "data": {
      "image/png": "[encoded data removed]",
      "text/plain": [
       "<Figure size 432x288 with 1 Axes>"
      ]
     },
     "metadata": {
      "needs_background": "light"
     },
     "output_type": "display_data"
    }
   ],
   "source": [
    "mm_chi = mm.fit_transform(chi_squared.reshape(-1,1))\n",
    "\n",
    "plt.hist(mm_chi)\n",
    "\n",
    "print(np.var(chi_squared), np.mean(chi_squared))"
   ]
  },
  {
   "cell_type": "code",
   "execution_count": null,
   "metadata": {},
   "outputs": [],
   "source": []
  },
  {
   "cell_type": "code",
   "execution_count": null,
   "metadata": {},
   "outputs": [],
   "source": []
  }
 ],
 "metadata": {
  "kernelspec": {
   "display_name": "Python 3",
   "language": "python",
   "name": "python3"
  },
  "language_info": {
   "codemirror_mode": {
    "name": "ipython",
    "version": 3
   },
   "file_extension": ".py",
   "mimetype": "text/x-python",
   "name": "python",
   "nbconvert_exporter": "python",
   "pygments_lexer": "ipython3",
   "version": "3.6.6"
  }
 },
 "nbformat": 4,
 "nbformat_minor": 4
}
