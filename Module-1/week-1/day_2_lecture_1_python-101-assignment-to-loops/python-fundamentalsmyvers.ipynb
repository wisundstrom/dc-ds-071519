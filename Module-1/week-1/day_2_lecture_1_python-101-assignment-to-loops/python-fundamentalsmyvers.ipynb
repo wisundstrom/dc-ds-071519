{
 "cells": [
  {
   "cell_type": "markdown",
   "metadata": {},
   "source": [
    "![python logo](https://www.python.org/static/community_logos/python-logo-master-v3-TM.png)\n",
    "\n",
    "\n",
    "\n",
    "# Python has a lot of great [documentation](https://www.python.org/about/gettingstarted/)\n",
    "\n",
    "\n",
    "Today as a first step we want you to be able to:\n",
    "- Make use of assigning variables\n",
    "- Classify and explain integers, float, strings, boolean, list, dictionary, and tuple\n",
    "- Identify the comparators and boolean operators\n",
    "- Make use of a `list`: indexing, ranges, appending\n",
    "- Make use of a `dict`: identifying, creating, navigating\n",
    "- Apply a for loop to lists and dictionaries\n",
    "\n",
    "\n",
    "### To do all that, we are going to code up versions of a bento box:\n",
    "\n",
    "![bento box image](https://images.pexels.com/photos/884596/pexels-photo-884596.jpeg?auto=compress&cs=tinysrgb&dpr=2&h=750&w=1260)\n",
    "\n",
    "\n",
    "### Bento boxes can have multiple ingredients and choices\n",
    "\n",
    "We want to write a script that can combine everyone's bento order into one data collection and print each item for the restaurant. \n",
    "\n",
    "#### Variable assignment \n",
    "\n",
    "Let's start with our first bento oder:\n",
    "\n",
    "```\n",
    "main = \"rice\"\n",
    "protein = \"salmon\"\n",
    "ozofprotein = 4.5\n",
    "number_of_sides = 3\n",
    "side1 = 'seaweed'\n",
    "side2 = 'tempura'\n",
    "side2 =  'turnip pickle'\n",
    "greatbento = True\n",
    "```"
   ]
  },
  {
   "cell_type": "code",
<<<<<<< HEAD
   "execution_count": 3,
=======
   "execution_count": 1,
>>>>>>> f2a7676f6af53663937d0e3c06d0a7d03f93f880
   "metadata": {},
   "outputs": [],
   "source": [
    "main = \"rice\"\n",
    "protein = \"salmon\"\n",
    "ozofprotein = 4.5\n",
    "number_of_sides = 3\n",
    "side1 = 'seaweed'\n",
    "side2 = 'tempura'\n",
<<<<<<< HEAD
    "side3 =  'turnip pickle'\n",
=======
    "side2 =  'turnip pickle'\n",
>>>>>>> f2a7676f6af53663937d0e3c06d0a7d03f93f880
    "greatbento = True"
   ]
  },
  {
   "cell_type": "markdown",
   "metadata": {},
   "source": [
    "Now, if we wanted to change our protein to ginger chicken, how would we do that?"
   ]
  },
  {
   "cell_type": "code",
<<<<<<< HEAD
   "execution_count": 4,
=======
   "execution_count": 3,
>>>>>>> f2a7676f6af53663937d0e3c06d0a7d03f93f880
   "metadata": {},
   "outputs": [
    {
     "name": "stdout",
     "output_type": "stream",
     "text": [
<<<<<<< HEAD
      "tempura\n",
      "edamame\n"
=======
      "ginger chicken\n"
>>>>>>> f2a7676f6af53663937d0e3c06d0a7d03f93f880
     ]
    }
   ],
   "source": [
<<<<<<< HEAD
    "protein = 'ginger chicken'\n",
    "\n",
    "print(side2)\n",
    "\n",
    "side2='edamame'\n",
    "print(side2)"
=======
    "protein = \"ginger chicken\"\n",
    "print(protein)"
>>>>>>> f2a7676f6af53663937d0e3c06d0a7d03f93f880
   ]
  },
  {
   "cell_type": "markdown",
   "metadata": {},
   "source": [
    "We can reassign variable values easily.\n",
    "\n",
    "Now, we assigned those variables one at a time. We also can assign multiple values at once:\n",
    "\n",
    "`side1, side2, side3 = \"carrots\", \"kimchi\", \"mushrooms\"`\n",
    "\n",
    "Update your side order to match your preference. \n",
    "\n",
    "Then use `print()` to confirm the variable change"
   ]
  },
  {
   "cell_type": "code",
<<<<<<< HEAD
   "execution_count": 18,
=======
   "execution_count": 4,
   "metadata": {},
   "outputs": [],
   "source": [
    "side1, side2, side3 = \"carrots\", \"kimchi\", \"mushrooms\""
   ]
  },
  {
   "cell_type": "code",
   "execution_count": 5,
>>>>>>> f2a7676f6af53663937d0e3c06d0a7d03f93f880
   "metadata": {},
   "outputs": [
    {
     "name": "stdout",
     "output_type": "stream",
     "text": [
<<<<<<< HEAD
      "edamame\n",
      "kimchi\n"
=======
      "carrots\n"
>>>>>>> f2a7676f6af53663937d0e3c06d0a7d03f93f880
     ]
    }
   ],
   "source": [
<<<<<<< HEAD
    "print(side2)\n",
    "side1, side2, side3=\"carrots\", \"kimchi\", \"mushrooms\"\n",
    "print(side2)"
=======
    "print(number_of_sides)"
>>>>>>> f2a7676f6af53663937d0e3c06d0a7d03f93f880
   ]
  },
  {
   "cell_type": "markdown",
   "metadata": {},
   "source": [
    "#### Variable Types\n",
    "\n",
    "Each variable in our bento box has a `type`. \n",
    "\n",
    "```\n",
    "type(side1)\n",
    "str\n",
    "```\n",
    "Run `type()` on the remaining variables to explore the type options."
   ]
  },
  {
   "cell_type": "code",
<<<<<<< HEAD
   "execution_count": 21,
=======
   "execution_count": 9,
>>>>>>> f2a7676f6af53663937d0e3c06d0a7d03f93f880
   "metadata": {},
   "outputs": [
    {
     "data": {
      "text/plain": [
<<<<<<< HEAD
       "float"
      ]
     },
     "execution_count": 21,
=======
       "int"
      ]
     },
     "execution_count": 9,
>>>>>>> f2a7676f6af53663937d0e3c06d0a7d03f93f880
     "metadata": {},
     "output_type": "execute_result"
    }
   ],
   "source": [
<<<<<<< HEAD
    "type(side1)\n",
    "type(greatbento)\n",
    "type(ozofprotein)\n"
=======
    "type(number_of_sides)"
>>>>>>> f2a7676f6af53663937d0e3c06d0a7d03f93f880
   ]
  },
  {
   "cell_type": "markdown",
   "metadata": {},
   "source": [
    "#### Conditionals\n",
    "\n",
    "Now what if you have food allergies, or want to be able to evaluate a variable before changing it?\n",
    "\n",
    "Well you're in luck, cause we have if statements and conditionals and control flow operators.\n",
    "\n",
    "\n",
    "\n",
    "Control flow operators are:\n",
    "```\n",
    "==\n",
    "!=\n",
    ">\n",
    "<\n",
    "<=\n",
    ">=\n",
    "```\n",
    "\n",
    "\n",
    "Decision Making is like this:\n",
    "```\n",
    "if protein == 'salmon':\n",
    "  print(\"I love salmon!\")\n",
    "```\n",
    "\n",
    "![how conditional works](decision_making.jpg)\n",
    "\n",
    "\n",
    "Will I like this bento box?\n",
    "```\n",
    "if main == 'rice':\n",
    "  print(\"no carbs, please!\")\n",
    "elif ozofprotein >= 2.5:\n",
    "  print(\"too much!\")\n",
    "else:\n",
    "  print(\"I have no problems with this order\")\n",
    "```\n",
    "\n",
    "\n",
    "The [tools](https://docs.python.org/3/tutorial/controlflow.html)  used in conditionals are `if`, `elif`, and `else`\n",
    "\n",
    "Update the above code example, but rather than `print` set `greatbento` equal to `True` or `False` depending on the values of the bento box ingredients."
   ]
  },
  {
   "cell_type": "code",
   "execution_count": 28,
   "metadata": {},
<<<<<<< HEAD
   "outputs": [
    {
     "data": {
      "text/plain": [
       "False"
      ]
     },
     "execution_count": 28,
     "metadata": {},
     "output_type": "execute_result"
    }
   ],
   "source": [
    "main= 'rice'\n",
    "ozofprotein=4.5\n",
    "\n",
    "\n",
    "if main == 'rice':\n",
    "  greatbento=False\n",
    "elif ozofprotein <= 2.5:\n",
    "  greatbento=False\n",
    "else:\n",
    "  greatbento=True\n",
    "\n",
    "\n",
    "greatbento"
=======
   "outputs": [],
   "source": [
    "if main == 'rice':\n",
    "  print(\"no carbs, please!\")\n",
    "if ozofprotein >= 2.5:\n",
    "  print(\"too much!\")\n",
    "else:\n",
    "  print(\"I have no problems with this order\")\n"
>>>>>>> f2a7676f6af53663937d0e3c06d0a7d03f93f880
   ]
  },
  {
   "cell_type": "markdown",
   "metadata": {},
   "source": [
    "# Using Lists: Indexing, ranges, appending"
   ]
  },
  {
   "cell_type": "markdown",
   "metadata": {},
   "source": [
    "#### Lists\n",
    "\n",
    "Writing out all those ingredients individually is a pain, let's put them in a list!\n",
    "\n",
    "![dog-to-do-list](https://media.giphy.com/media/xTiTnuhyBF54B852nK/giphy.gif)\n",
    "\n",
    "\n",
    "```\n",
    "bento_box_list = [\"rice\", \"chicken teriyaki\", \"tempura\", \"soy sauce\", \"ginger\", \"seaweed\"]\n",
    "bento_box_list[2]\n",
    "\n",
    "Output: tempura\n",
    "\n",
    "numbers[0:2]\n",
    "\n",
    "Output: [\"rice\", \"chicken teriyaki\"]\n",
    "```\n",
    "To append to a list:\n",
    "\n",
    "```\n",
    "bento_box_list = [\"rice\", \"chicken teriyaki\", \"tempura\", \"soy sauce\", \"ginger\", \"seaweed\"]\n",
    "bento_box_list.append(\"wasabi\")\n",
    "print(bento_box_list)\n",
    "\n",
    "Output: [\"rice\", \"chicken teriyaki\", \"tempura\", \"soy sauce\", \"ginger\", \"seaweed\", \"wasabi\"]\n",
    "```\n",
    "\n",
    "Now, let's put our order in a readable format using `join`\n",
    "\n",
    "\n",
    "```\n",
    "print('I'd like my bento box to contain: \" + \", \".join(bento_box_list[:-1]+ \", and \"+bento_box_list[-1])\n",
    "```\n",
    "\n",
    "Make a list of your bento box ingredients!  Have it print out in a legible sentence!"
   ]
  },
  {
   "cell_type": "code",
<<<<<<< HEAD
   "execution_count": 34,
=======
   "execution_count": 10,
   "metadata": {},
   "outputs": [],
   "source": [
    "bento_box_list = [\"rice\", \"chicken teriyaki\", \"tempura\", \"soy sauce\", \"ginger\", \"seaweed\"]"
   ]
  },
  {
   "cell_type": "code",
   "execution_count": 11,
   "metadata": {},
   "outputs": [
    {
     "name": "stdout",
     "output_type": "stream",
     "text": [
      "['rice', 'chicken teriyaki', 'tempura', 'soy sauce', 'ginger', 'seaweed']\n"
     ]
    }
   ],
   "source": [
    "print(bento_box_list)"
   ]
  },
  {
   "cell_type": "code",
   "execution_count": 12,
   "metadata": {},
   "outputs": [
    {
     "data": {
      "text/plain": [
       "'ginger'"
      ]
     },
     "execution_count": 12,
     "metadata": {},
     "output_type": "execute_result"
    }
   ],
   "source": [
    "bento_box_list[4]"
   ]
  },
  {
   "cell_type": "code",
   "execution_count": 13,
   "metadata": {},
   "outputs": [],
   "source": [
    "bento_box_list.append(\"mushrooms\")"
   ]
  },
  {
   "cell_type": "code",
   "execution_count": 14,
   "metadata": {},
   "outputs": [
    {
     "name": "stdout",
     "output_type": "stream",
     "text": [
      "['rice', 'chicken teriyaki', 'tempura', 'soy sauce', 'ginger', 'seaweed', 'mushrooms']\n"
     ]
    }
   ],
   "source": [
    "print(bento_box_list)"
   ]
  },
  {
   "cell_type": "code",
   "execution_count": 19,
   "metadata": {},
   "outputs": [
    {
     "name": "stdout",
     "output_type": "stream",
     "text": [
      "I'd like my bento box to contain: rice, chicken teriyaki, tempura, soy sauce, ginger, seaweed, and mushrooms.\n"
     ]
    }
   ],
   "source": [
    "print(\"I'd like my bento box to contain: \" + \\\n",
    "      \", \".join(bento_box_list[:-1]) + \", and \" \\\n",
    "      + bento_box_list[-1] + \".\")"
   ]
  },
  {
   "cell_type": "code",
   "execution_count": 21,
   "metadata": {
    "scrolled": true
   },
   "outputs": [
    {
     "name": "stdout",
     "output_type": "stream",
     "text": [
      "rice-chicken teriyaki-tempura-soy sauce-ginger-seaweed\n"
     ]
    }
   ],
   "source": [
    "print(\", \".join(bento_box_list[:-1]))"
   ]
  },
  {
   "cell_type": "code",
   "execution_count": null,
   "metadata": {},
   "outputs": [],
   "source": [
    "print(bento_box_list[1]+\", \"+bento_box_list[2]+\", \")"
   ]
  },
  {
   "cell_type": "code",
   "execution_count": null,
   "metadata": {},
   "outputs": [],
   "source": []
  },
  {
   "cell_type": "code",
   "execution_count": null,
   "metadata": {},
   "outputs": [],
   "source": []
  },
  {
   "cell_type": "code",
   "execution_count": null,
   "metadata": {},
   "outputs": [],
   "source": []
  },
  {
   "cell_type": "code",
   "execution_count": null,
   "metadata": {},
   "outputs": [],
   "source": []
  },
  {
   "cell_type": "code",
   "execution_count": null,
   "metadata": {},
   "outputs": [],
   "source": []
  },
  {
   "cell_type": "code",
   "execution_count": null,
>>>>>>> f2a7676f6af53663937d0e3c06d0a7d03f93f880
   "metadata": {},
   "outputs": [
    {
     "name": "stdout",
     "output_type": "stream",
     "text": [
      "['rice', 'beef teriyaki', 'shu mai', 'soy sauce', 'ginger', 'seaweed']\n",
      "['rice', 'beef teriyaki', 'shu mai', 'soy sauce', 'ginger', 'seaweed', 'sriracha']\n"
     ]
    }
   ],
   "source": [
    "bento_box_list = [\"rice\", \"beef teriyaki\", \"shu mai\", \"soy sauce\", \"ginger\", \"seaweed\"]\n",
    "print(bento_box_list)\n",
    "\n",
    "bento_box_list.append(\"sriracha\")\n",
    "print(bento_box_list)"
   ]
  },
  {
   "cell_type": "code",
   "execution_count": 44,
   "metadata": {},
   "outputs": [
    {
     "name": "stdout",
     "output_type": "stream",
     "text": [
      "I'd like my bento box to conatin: rice, beef teriyaki, shu mai, soy sauce, ginger, seaweed, and sriracha. \n"
     ]
    }
   ],
   "source": [
    "print(\"I'd like my bento box to conatin: \" + \", \".join(bento_box_list[:-1])+\", and \"+bento_box_list[-1] + \". \")"
   ]
  },
  {
   "cell_type": "markdown",
   "metadata": {},
   "source": [
    "#### Dictionaries\n",
    "\n",
    "![dictionary](https://images.pexels.com/photos/270233/pexels-photo-270233.jpeg?auto=compress&cs=tinysrgb&dpr=2&w=500)\n",
    "\n",
    "No, not that kind! \n",
    "\n",
    "With your list above, someone would need to tell you that \"rice\" is the main and \"chicken\" is the protein. \n",
    "\n",
    "Dictionaries let you assign **key** and **value** pairs. \n",
    "\n",
    "Rather than using **indexing** you use **keys** to return values.\n",
    "\n",
    "```\n",
    "bento_box_dict = {'ingredient1': 'rice', 'ingredient2': 'unagi', 'ingredient3': 'miso soup'}\n",
    "```\n",
    "To get an element in the dictionary:\n",
    "```\n",
    "print(bento_box_dict['ingredient2'])\n",
    "```\n",
    "\n",
    "Update your bento_box_list to be a dictionary. Make sure to run `type()` on your dictionary to confirm it is successful."
   ]
  },
  {
   "cell_type": "code",
<<<<<<< HEAD
   "execution_count": 42,
=======
   "execution_count": 22,
   "metadata": {},
   "outputs": [],
   "source": [
    "bento_box_dict = {'ingredient1': 'rice', 'ingredient2': 'unagi', 'ingredient3': 'miso soup'}"
   ]
  },
  {
   "cell_type": "code",
   "execution_count": null,
>>>>>>> f2a7676f6af53663937d0e3c06d0a7d03f93f880
   "metadata": {},
   "outputs": [
    {
     "data": {
      "text/plain": [
       "dict"
      ]
     },
     "execution_count": 42,
     "metadata": {},
     "output_type": "execute_result"
    }
   ],
   "source": [
    "bento_box_dict = {'ingredient1': 'rice', 'ingredient2': 'unagi', 'ingredient3': 'miso soup'}\n",
    "type(bento_box_dict)"
   ]
  },
  {
   "cell_type": "code",
   "execution_count": 25,
   "metadata": {},
   "outputs": [
    {
     "data": {
      "text/plain": [
       "dict_keys(['ingredient1', 'ingredient2', 'ingredient3'])"
      ]
     },
     "execution_count": 25,
     "metadata": {},
     "output_type": "execute_result"
    }
   ],
   "source": [
    "bento_box_dict.keys()"
   ]
  },
  {
   "cell_type": "code",
   "execution_count": 26,
   "metadata": {},
   "outputs": [
    {
     "data": {
      "text/plain": [
       "dict_values(['rice', 'unagi', 'miso soup'])"
      ]
     },
     "execution_count": 26,
     "metadata": {},
     "output_type": "execute_result"
    }
   ],
   "source": [
    "bento_box_dict.values()"
   ]
  },
  {
   "cell_type": "markdown",
   "metadata": {},
   "source": [
    "Now, to make it even better, you can nest **DICTIONARIES** INSIDE of **LISTS**\n",
    "\n",
    "```\n",
    "group_lunch = [\n",
    "    {'ingredient1': 'rice', 'ingredient2': 'unagi', 'ingredient3': 'miso soup'},\n",
    "    {'ingredient1': 'seaweed', 'ingredient2': 'tempura', 'ingredient3': 'miso soup'},\n",
    "    {'ingredient1': 'hamburger', 'ingredient2': 'french fries', 'ingredient3': 'milkshake'}\n",
    "]\n",
    "```\n",
    "\n",
    "try calling elements of group lunch and see what you get!"
   ]
  },
  {
   "cell_type": "code",
<<<<<<< HEAD
   "execution_count": 46,
   "metadata": {},
   "outputs": [],
   "source": [
=======
   "execution_count": 32,
   "metadata": {},
   "outputs": [],
   "source": [
    "# dictionary in a list\n",
>>>>>>> f2a7676f6af53663937d0e3c06d0a7d03f93f880
    "group_lunch = [\n",
    "    {'ingredient1': 'rice', 'ingredient2': 'unagi', 'ingredient3': 'miso soup'},\n",
    "    {'ingredient1': 'seaweed', 'ingredient2': 'tempura', 'ingredient3': 'miso soup'},\n",
    "    {'ingredient1': 'hamburger', 'ingredient2': 'french fries', 'ingredient3': 'milkshake'}\n",
    "]"
   ]
  },
  {
   "cell_type": "code",
<<<<<<< HEAD
   "execution_count": 50,
   "metadata": {},
=======
   "execution_count": 34,
   "metadata": {},
   "outputs": [],
   "source": [
    "# list in a dictionary!\n",
    "group_lunch_dict = {\"order 1\": ['rice', 'chicken teriyaki', 'tempura', 'soy sauce', 'ginger', 'seaweed', 'mushrooms'], \\\n",
    "                   \"order 2\":  ['rice', 'chicken teriyaki', 'tempura', 'soy sauce', 'ginger', 'seaweed', 'mushrooms']}"
   ]
  },
  {
   "cell_type": "code",
   "execution_count": 36,
   "metadata": {},
   "outputs": [
    {
     "data": {
      "text/plain": [
       "'rice'"
      ]
     },
     "execution_count": 36,
     "metadata": {},
     "output_type": "execute_result"
    }
   ],
   "source": [
    "group_lunch[0]['ingredient1']"
   ]
  },
  {
   "cell_type": "code",
   "execution_count": 37,
   "metadata": {},
   "outputs": [
    {
     "data": {
      "text/plain": [
       "'rice'"
      ]
     },
     "execution_count": 37,
     "metadata": {},
     "output_type": "execute_result"
    }
   ],
   "source": [
    "group_lunch_dict[\"order 1\"][0]"
   ]
  },
  {
   "cell_type": "code",
   "execution_count": 33,
   "metadata": {
    "scrolled": true
   },
>>>>>>> f2a7676f6af53663937d0e3c06d0a7d03f93f880
   "outputs": [
    {
     "data": {
      "text/plain": [
<<<<<<< HEAD
       "{'ingredient1': 'hamburger',\n",
       " 'ingredient2': 'french fries',\n",
       " 'ingredient3': 'milkshake'}"
      ]
     },
     "execution_count": 50,
=======
       "{'ingredient1': 'rice', 'ingredient2': 'unagi', 'ingredient3': 'miso soup'}"
      ]
     },
     "execution_count": 33,
>>>>>>> f2a7676f6af53663937d0e3c06d0a7d03f93f880
     "metadata": {},
     "output_type": "execute_result"
    }
   ],
   "source": [
<<<<<<< HEAD
    "group_lunch[2]"
=======
    "group_lunch[0]"
>>>>>>> f2a7676f6af53663937d0e3c06d0a7d03f93f880
   ]
  },
  {
   "cell_type": "markdown",
   "metadata": {},
   "source": [
    "Talk with your neighbors to get a few different bento box orders into a group order. Please limit each order to 5 ingredients. "
   ]
  },
  {
   "cell_type": "code",
   "execution_count": 69,
   "metadata": {},
   "outputs": [],
   "source": [
    "neighbor_lunch = [\n",
    "    {'ingredient1': 'a hot dog', 'ingredient2': 'cola', 'ingredient3': 'chips'},\n",
    "    {'ingredient1': 'noodles', 'ingredient2': 'chicken', 'ingredient3': 'spring roll'},\n",
    "    {'ingredient1': 'cheese', 'ingredient2': 'pepperoni', 'ingredient3': 'onion'}\n",
    "]"
   ]
  },
  {
   "cell_type": "markdown",
   "metadata": {},
   "source": [
    "#### For loops\n",
    "\n",
    "Okay, is anyone confused about for-loops? \n",
    "\n",
    "(if so - ask me about laundry)\n",
    "\n",
    "If NOT:\n",
    "\n",
    "```\n",
    "group_lunch = [\n",
    "    {'ingredient1': 'rice', 'ingredient2': 'unagi', 'ingredient3': 'miso soup'},\n",
    "    {'ingredient1': 'seaweed', 'ingredient2': 'tempura', 'ingredient3': 'miso soup'},\n",
    "    {'ingredient1': 'hamburger', 'ingredient2': 'french fries', 'ingredient3': 'milkshake'}\n",
    "]\n",
    "```\n",
    "\n",
    "write a loop to print first ingredient in everyone's bento order.\n",
    "\n"
   ]
  },
  {
   "cell_type": "code",
<<<<<<< HEAD
   "execution_count": 51,
=======
   "execution_count": 39,
>>>>>>> f2a7676f6af53663937d0e3c06d0a7d03f93f880
   "metadata": {},
   "outputs": [
    {
     "name": "stdout",
     "output_type": "stream",
     "text": [
      "rice\n",
      "seaweed\n",
      "hamburger\n"
     ]
    }
   ],
   "source": [
    "group_lunch = [\n",
    "    {'ingredient1': 'rice', 'ingredient2': 'unagi', 'ingredient3': 'miso soup'},\n",
    "    {'ingredient1': 'seaweed', 'ingredient2': 'tempura', 'ingredient3': 'miso soup'},\n",
    "    {'ingredient1': 'hamburger', 'ingredient2': 'french fries', 'ingredient3': 'milkshake'}\n",
    "]\n",
    "\n",
    "\n",
    "for order in group_lunch:\n",
    "    print(order['ingredient1'])"
   ]
  },
  {
   "cell_type": "code",
   "execution_count": 58,
   "metadata": {},
   "outputs": [
    {
     "name": "stdout",
     "output_type": "stream",
     "text": [
      "hot dog\n",
      "noodles\n",
      "cheese\n"
     ]
    }
   ],
   "source": [
    "for lunch in neighbor_lunch:\n",
    "    print(lunch['ingredient1'])"
   ]
  },
  {
   "cell_type": "markdown",
   "metadata": {},
   "source": [
    "### Integration\n",
    "\n",
    "Write a for loop that will go through and print all the orders as a readable sentences. "
   ]
  },
  {
   "cell_type": "code",
<<<<<<< HEAD
   "execution_count": 72,
=======
   "execution_count": 51,
>>>>>>> f2a7676f6af53663937d0e3c06d0a7d03f93f880
   "metadata": {},
   "outputs": [
    {
     "name": "stdout",
     "output_type": "stream",
     "text": [
<<<<<<< HEAD
      "For meal number 1, I would like hot dog, cola and chips.\n",
      "For meal number 2, I would like noodles, chicken and spring roll.\n",
      "For meal number 3, I would like cheese, pepperoni and onion.\n"
=======
      "We would like to order: \n",
      "\n",
      "\t -rice, unagi, and a miso soup\n",
      "\t -seaweed, tempura, and a miso soup\n",
      "\t -hamburger, french fries, and a milkshake\n"
>>>>>>> f2a7676f6af53663937d0e3c06d0a7d03f93f880
     ]
    }
   ],
   "source": [
<<<<<<< HEAD
    "for lunch in neighbor_lunch:\n",
    "    print(f\"For meal number {neighbor_lunch.index(lunch)+1}, I would like {lunch['ingredient1']}, {lunch['ingredient2']} and {lunch['ingredient3']}.\")\n",
    "    "
=======
    "# Option 1\n",
    "print(\"We would like to order: \\n\")\n",
    "for order in group_lunch:\n",
    "    print(\"\\t -\"+ order['ingredient1'] +\", \"+order['ingredient2']+\", and a \"+order['ingredient3'])"
   ]
  },
  {
   "cell_type": "code",
   "execution_count": 46,
   "metadata": {},
   "outputs": [
    {
     "name": "stdout",
     "output_type": "stream",
     "text": [
      "We would like to order: \n",
      "\n",
      "\t - rice, unagi and a miso soup.\n",
      "\n",
      "\t - seaweed, tempura and a miso soup.\n",
      "\n",
      "\t - hamburger, french fries and a milkshake.\n",
      "\n"
     ]
    }
   ],
   "source": [
    "# Option 2\n",
    "print(\"We would like to order: \\n\" )\n",
    "for order in group_lunch:\n",
    "    string_samp = \"\"\n",
    "    list_of_items =list(order.values())\n",
    "    string_samp = \", \".join(list_of_items[:-1])\n",
    "    print(\"\\t - \"+string_samp + \" and a \"+ list_of_items[-1]+ \".\\n\")"
>>>>>>> f2a7676f6af53663937d0e3c06d0a7d03f93f880
   ]
  },
  {
   "cell_type": "markdown",
   "metadata": {},
   "source": [
    "### Reflection:\n",
    "\n",
    "What's an situation where you could use lists and loops to automate a process?\n"
   ]
  },
  {
   "cell_type": "markdown",
   "metadata": {},
   "source": [
    "you could go through a list of attendance for a class and count and display number of tardies\n",
    "    "
   ]
  }
 ],
 "metadata": {
  "kernelspec": {
   "display_name": "learn-env",
   "language": "python",
   "name": "learn-env"
  },
  "language_info": {
   "codemirror_mode": {
    "name": "ipython",
    "version": 3
   },
   "file_extension": ".py",
   "mimetype": "text/x-python",
   "name": "python",
   "nbconvert_exporter": "python",
   "pygments_lexer": "ipython3",
<<<<<<< HEAD
   "version": "3.7.3"
=======
   "version": "3.7.2"
>>>>>>> f2a7676f6af53663937d0e3c06d0a7d03f93f880
  }
 },
 "nbformat": 4,
 "nbformat_minor": 2
}
