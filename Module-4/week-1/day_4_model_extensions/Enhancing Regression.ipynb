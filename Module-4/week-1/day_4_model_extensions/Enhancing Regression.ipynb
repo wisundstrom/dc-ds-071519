{
 "cells": [
  {
   "cell_type": "markdown",
   "metadata": {},
   "source": [
    "\n",
    "#### Importing Libraries"
   ]
  },
  {
   "cell_type": "code",
   "execution_count": 1,
   "metadata": {},
   "outputs": [],
   "source": [
    "%matplotlib inline\n",
    "\n",
    "import numpy as np\n",
    "import pandas as pd\n",
    "import statsmodels.api as sm\n",
    "import statsmodels.formula.api as smf"
   ]
  },
  {
   "cell_type": "markdown",
   "metadata": {},
   "source": [
    "# Enhancing Regression Models"
   ]
  },
  {
   "cell_type": "markdown",
   "metadata": {},
   "source": [
    "Objectives, be able to use:\n",
    "\n",
    "Pre-processing:\n",
    "- handling non-numeric data\n",
    " - ordinal: label encoder\n",
    " - categorical: one-hot-encoder (which do you drop?)\n",
    " - binary encoder\n",
    "- Scaling\n",
    "\n",
    "Creating New:\n",
    "- Interaction terms\n",
    "- Polynomials\n",
    "- combinations of other variables\n",
    "\n",
    "Evaluating:\n",
    "- R^2 vs adjusted R^2\n",
    "- AIC\n",
    "- BIC\n",
    "- comparing model performance metrics - metrics going up or down?\n"
   ]
  },
  {
   "cell_type": "markdown",
   "metadata": {},
   "source": [
    "## Scenario: car seat sales\n",
    "\n",
    "Description: simulated data set on sales of car seats<br>\n",
    "Format: 400 observations on the following 11 variables\n",
    "- Sales: unit sales at each location\n",
    "- CompPrice: price charged by nearest competitor at each location\n",
    "- Income: community income level\n",
    "- Advertising: local advertising budget for company at each location\n",
    "- Population: population size in region (in thousands)\n",
    "- Price: price charged for car seat at each site\n",
    "- ShelveLoc: quality of shelving location at site (Good | Bad | Medium)\n",
    "- Age: average age of the local population\n",
    "- Education: education level at each location\n",
    "- Urban: whether the store is in an urban or rural location\n",
    "- USA: whether the store is in the US or not"
   ]
  },
  {
   "cell_type": "markdown",
   "metadata": {},
   "source": [
    " We will attempt to predict ${\\tt Sales}$ (child car seat sales) in 400 locations based on a number of predictors."
   ]
  },
  {
   "cell_type": "markdown",
   "metadata": {},
   "source": [
    "#### Task\n",
    "Before looking at the data, brainstorm with your neighbor which four variables you think *might* be related to sales."
   ]
  },
  {
   "cell_type": "code",
   "execution_count": 2,
   "metadata": {},
   "outputs": [
    {
     "data": {
      "text/html": [
       "<div>\n",
       "<style scoped>\n",
       "    .dataframe tbody tr th:only-of-type {\n",
       "        vertical-align: middle;\n",
       "    }\n",
       "\n",
       "    .dataframe tbody tr th {\n",
       "        vertical-align: top;\n",
       "    }\n",
       "\n",
       "    .dataframe thead th {\n",
       "        text-align: right;\n",
       "    }\n",
       "</style>\n",
       "<table border=\"1\" class=\"dataframe\">\n",
       "  <thead>\n",
       "    <tr style=\"text-align: right;\">\n",
       "      <th></th>\n",
       "      <th>Sales</th>\n",
       "      <th>CompPrice</th>\n",
       "      <th>Income</th>\n",
       "      <th>Advertising</th>\n",
       "      <th>Population</th>\n",
       "      <th>Price</th>\n",
       "      <th>ShelveLoc</th>\n",
       "      <th>Age</th>\n",
       "      <th>Education</th>\n",
       "      <th>Urban</th>\n",
       "      <th>US</th>\n",
       "    </tr>\n",
       "  </thead>\n",
       "  <tbody>\n",
       "    <tr>\n",
       "      <th>0</th>\n",
       "      <td>9.50</td>\n",
       "      <td>138</td>\n",
       "      <td>73</td>\n",
       "      <td>11</td>\n",
       "      <td>276</td>\n",
       "      <td>120</td>\n",
       "      <td>Bad</td>\n",
       "      <td>42</td>\n",
       "      <td>17</td>\n",
       "      <td>Yes</td>\n",
       "      <td>Yes</td>\n",
       "    </tr>\n",
       "    <tr>\n",
       "      <th>1</th>\n",
       "      <td>11.22</td>\n",
       "      <td>111</td>\n",
       "      <td>48</td>\n",
       "      <td>16</td>\n",
       "      <td>260</td>\n",
       "      <td>83</td>\n",
       "      <td>Good</td>\n",
       "      <td>65</td>\n",
       "      <td>10</td>\n",
       "      <td>Yes</td>\n",
       "      <td>Yes</td>\n",
       "    </tr>\n",
       "    <tr>\n",
       "      <th>2</th>\n",
       "      <td>10.06</td>\n",
       "      <td>113</td>\n",
       "      <td>35</td>\n",
       "      <td>10</td>\n",
       "      <td>269</td>\n",
       "      <td>80</td>\n",
       "      <td>Medium</td>\n",
       "      <td>59</td>\n",
       "      <td>12</td>\n",
       "      <td>Yes</td>\n",
       "      <td>Yes</td>\n",
       "    </tr>\n",
       "    <tr>\n",
       "      <th>3</th>\n",
       "      <td>7.40</td>\n",
       "      <td>117</td>\n",
       "      <td>100</td>\n",
       "      <td>4</td>\n",
       "      <td>466</td>\n",
       "      <td>97</td>\n",
       "      <td>Medium</td>\n",
       "      <td>55</td>\n",
       "      <td>14</td>\n",
       "      <td>Yes</td>\n",
       "      <td>Yes</td>\n",
       "    </tr>\n",
       "    <tr>\n",
       "      <th>4</th>\n",
       "      <td>4.15</td>\n",
       "      <td>141</td>\n",
       "      <td>64</td>\n",
       "      <td>3</td>\n",
       "      <td>340</td>\n",
       "      <td>128</td>\n",
       "      <td>Bad</td>\n",
       "      <td>38</td>\n",
       "      <td>13</td>\n",
       "      <td>Yes</td>\n",
       "      <td>No</td>\n",
       "    </tr>\n",
       "  </tbody>\n",
       "</table>\n",
       "</div>"
      ],
      "text/plain": [
       "   Sales  CompPrice  Income  Advertising  Population  Price ShelveLoc  Age  \\\n",
       "0   9.50        138      73           11         276    120       Bad   42   \n",
       "1  11.22        111      48           16         260     83      Good   65   \n",
       "2  10.06        113      35           10         269     80    Medium   59   \n",
       "3   7.40        117     100            4         466     97    Medium   55   \n",
       "4   4.15        141      64            3         340    128       Bad   38   \n",
       "\n",
       "   Education Urban   US  \n",
       "0         17   Yes  Yes  \n",
       "1         10   Yes  Yes  \n",
       "2         12   Yes  Yes  \n",
       "3         14   Yes  Yes  \n",
       "4         13   Yes   No  "
      ]
     },
     "execution_count": 2,
     "metadata": {},
     "output_type": "execute_result"
    }
   ],
   "source": [
    "df2 = pd.read_csv('Carseats.csv')\n",
    "df2.head()"
   ]
  },
  {
   "cell_type": "markdown",
   "metadata": {},
   "source": [
    "The ${\\tt Carseats}$ data includes qualitative predictors such as ${\\tt Shelveloc}$, an indicator of the quality of the shelving location—that is, the space within a store in which the car seat is displayed—at each location. The predictor ${\\tt Shelveloc}$ takes on three possible values, ${\\tt Bad}$, ${\\tt Medium}$, and ${\\tt Good}$.\n",
    "\n",
    "Given a qualitative variable such as ${\\tt Shelveloc}$, Python generates dummy variables automatically. Below we fit a multiple regression model that includes some interaction terms."
   ]
  },
  {
   "cell_type": "code",
   "execution_count": 3,
   "metadata": {},
   "outputs": [],
   "source": [
    "x_vars=list(df2.columns[df2.columns!='Sales'])"
   ]
  },
  {
   "cell_type": "code",
   "execution_count": 4,
   "metadata": {},
   "outputs": [],
   "source": [
    "model = smf.ols('Sales ~ Income:Advertising+Price:Age + ' + \"+\".join(x_vars),data= df2)"
   ]
  },
  {
   "cell_type": "code",
   "execution_count": 5,
   "metadata": {},
   "outputs": [
    {
     "data": {
      "text/html": [
       "<table class=\"simpletable\">\n",
       "<tr>\n",
       "        <td>Model:</td>               <td>OLS</td>         <td>Adj. R-squared:</td>     <td>0.872</td>  \n",
       "</tr>\n",
       "<tr>\n",
       "  <td>Dependent Variable:</td>       <td>Sales</td>             <td>AIC:</td>         <td>1157.3378</td>\n",
       "</tr>\n",
       "<tr>\n",
       "         <td>Date:</td>        <td>2019-08-29 14:46</td>        <td>BIC:</td>         <td>1213.2183</td>\n",
       "</tr>\n",
       "<tr>\n",
       "   <td>No. Observations:</td>         <td>400</td>         <td>Log-Likelihood:</td>    <td>-564.67</td> \n",
       "</tr>\n",
       "<tr>\n",
       "       <td>Df Model:</td>             <td>13</td>           <td>F-statistic:</td>       <td>210.0</td>  \n",
       "</tr>\n",
       "<tr>\n",
       "     <td>Df Residuals:</td>           <td>386</td>       <td>Prob (F-statistic):</td> <td>6.14e-166</td>\n",
       "</tr>\n",
       "<tr>\n",
       "      <td>R-squared:</td>            <td>0.876</td>            <td>Scale:</td>         <td>1.0213</td>  \n",
       "</tr>\n",
       "</table>\n",
       "<table class=\"simpletable\">\n",
       "<tr>\n",
       "           <td></td>            <th>Coef.</th>  <th>Std.Err.</th>     <th>t</th>     <th>P>|t|</th> <th>[0.025</th>  <th>0.975]</th> \n",
       "</tr>\n",
       "<tr>\n",
       "  <th>Intercept</th>           <td>6.5756</td>   <td>1.0087</td>   <td>6.5185</td>  <td>0.0000</td> <td>4.5922</td>  <td>8.5589</td> \n",
       "</tr>\n",
       "<tr>\n",
       "  <th>ShelveLoc[T.Good]</th>   <td>4.8487</td>   <td>0.1528</td>   <td>31.7243</td> <td>0.0000</td> <td>4.5482</td>  <td>5.1492</td> \n",
       "</tr>\n",
       "<tr>\n",
       "  <th>ShelveLoc[T.Medium]</th> <td>1.9533</td>   <td>0.1258</td>   <td>15.5307</td> <td>0.0000</td> <td>1.7060</td>  <td>2.2005</td> \n",
       "</tr>\n",
       "<tr>\n",
       "  <th>Urban[T.Yes]</th>        <td>0.1402</td>   <td>0.1124</td>   <td>1.2470</td>  <td>0.2132</td> <td>-0.0808</td> <td>0.3612</td> \n",
       "</tr>\n",
       "<tr>\n",
       "  <th>US[T.Yes]</th>           <td>-0.1576</td>  <td>0.1489</td>   <td>-1.0580</td> <td>0.2907</td> <td>-0.4504</td> <td>0.1352</td> \n",
       "</tr>\n",
       "<tr>\n",
       "  <th>Income:Advertising</th>  <td>0.0008</td>   <td>0.0003</td>   <td>2.6976</td>  <td>0.0073</td> <td>0.0002</td>  <td>0.0013</td> \n",
       "</tr>\n",
       "<tr>\n",
       "  <th>Price:Age</th>           <td>0.0001</td>   <td>0.0001</td>   <td>0.8007</td>  <td>0.4238</td> <td>-0.0002</td> <td>0.0004</td> \n",
       "</tr>\n",
       "<tr>\n",
       "  <th>CompPrice</th>           <td>0.0929</td>   <td>0.0041</td>   <td>22.5668</td> <td>0.0000</td> <td>0.0848</td>  <td>0.1010</td> \n",
       "</tr>\n",
       "<tr>\n",
       "  <th>Income</th>              <td>0.0109</td>   <td>0.0026</td>   <td>4.1828</td>  <td>0.0000</td> <td>0.0058</td>  <td>0.0160</td> \n",
       "</tr>\n",
       "<tr>\n",
       "  <th>Advertising</th>         <td>0.0702</td>   <td>0.0226</td>   <td>3.1070</td>  <td>0.0020</td> <td>0.0258</td>  <td>0.1147</td> \n",
       "</tr>\n",
       "<tr>\n",
       "  <th>Population</th>          <td>0.0002</td>   <td>0.0004</td>   <td>0.4329</td>  <td>0.6653</td> <td>-0.0006</td> <td>0.0009</td> \n",
       "</tr>\n",
       "<tr>\n",
       "  <th>Price</th>               <td>-0.1008</td>  <td>0.0074</td>  <td>-13.5494</td> <td>0.0000</td> <td>-0.1154</td> <td>-0.0862</td>\n",
       "</tr>\n",
       "<tr>\n",
       "  <th>Age</th>                 <td>-0.0579</td>  <td>0.0160</td>   <td>-3.6329</td> <td>0.0003</td> <td>-0.0893</td> <td>-0.0266</td>\n",
       "</tr>\n",
       "<tr>\n",
       "  <th>Education</th>           <td>-0.0209</td>  <td>0.0196</td>   <td>-1.0632</td> <td>0.2884</td> <td>-0.0594</td> <td>0.0177</td> \n",
       "</tr>\n",
       "</table>\n",
       "<table class=\"simpletable\">\n",
       "<tr>\n",
       "     <td>Omnibus:</td>    <td>1.281</td>  <td>Durbin-Watson:</td>    <td>2.047</td>\n",
       "</tr>\n",
       "<tr>\n",
       "  <td>Prob(Omnibus):</td> <td>0.527</td> <td>Jarque-Bera (JB):</td>  <td>1.147</td>\n",
       "</tr>\n",
       "<tr>\n",
       "       <td>Skew:</td>     <td>0.129</td>     <td>Prob(JB):</td>      <td>0.564</td>\n",
       "</tr>\n",
       "<tr>\n",
       "     <td>Kurtosis:</td>   <td>3.050</td>  <td>Condition No.:</td>   <td>130576</td>\n",
       "</tr>\n",
       "</table>"
      ],
      "text/plain": [
       "<class 'statsmodels.iolib.summary2.Summary'>\n",
       "\"\"\"\n",
       "                  Results: Ordinary least squares\n",
       "====================================================================\n",
       "Model:                OLS              Adj. R-squared:     0.872    \n",
       "Dependent Variable:   Sales            AIC:                1157.3378\n",
       "Date:                 2019-08-29 14:46 BIC:                1213.2183\n",
       "No. Observations:     400              Log-Likelihood:     -564.67  \n",
       "Df Model:             13               F-statistic:        210.0    \n",
       "Df Residuals:         386              Prob (F-statistic): 6.14e-166\n",
       "R-squared:            0.876            Scale:              1.0213   \n",
       "--------------------------------------------------------------------\n",
       "                     Coef.  Std.Err.    t     P>|t|   [0.025  0.975]\n",
       "--------------------------------------------------------------------\n",
       "Intercept            6.5756   1.0087   6.5185 0.0000  4.5922  8.5589\n",
       "ShelveLoc[T.Good]    4.8487   0.1528  31.7243 0.0000  4.5482  5.1492\n",
       "ShelveLoc[T.Medium]  1.9533   0.1258  15.5307 0.0000  1.7060  2.2005\n",
       "Urban[T.Yes]         0.1402   0.1124   1.2470 0.2132 -0.0808  0.3612\n",
       "US[T.Yes]           -0.1576   0.1489  -1.0580 0.2907 -0.4504  0.1352\n",
       "Income:Advertising   0.0008   0.0003   2.6976 0.0073  0.0002  0.0013\n",
       "Price:Age            0.0001   0.0001   0.8007 0.4238 -0.0002  0.0004\n",
       "CompPrice            0.0929   0.0041  22.5668 0.0000  0.0848  0.1010\n",
       "Income               0.0109   0.0026   4.1828 0.0000  0.0058  0.0160\n",
       "Advertising          0.0702   0.0226   3.1070 0.0020  0.0258  0.1147\n",
       "Population           0.0002   0.0004   0.4329 0.6653 -0.0006  0.0009\n",
       "Price               -0.1008   0.0074 -13.5494 0.0000 -0.1154 -0.0862\n",
       "Age                 -0.0579   0.0160  -3.6329 0.0003 -0.0893 -0.0266\n",
       "Education           -0.0209   0.0196  -1.0632 0.2884 -0.0594  0.0177\n",
       "--------------------------------------------------------------------\n",
       "Omnibus:                1.281        Durbin-Watson:           2.047 \n",
       "Prob(Omnibus):          0.527        Jarque-Bera (JB):        1.147 \n",
       "Skew:                   0.129        Prob(JB):                0.564 \n",
       "Kurtosis:               3.050        Condition No.:           130576\n",
       "====================================================================\n",
       "* The condition number is large (1e+05). This might indicate\n",
       "strong multicollinearity or other numerical problems.\n",
       "\"\"\""
      ]
     },
     "execution_count": 5,
     "metadata": {},
     "output_type": "execute_result"
    }
   ],
   "source": [
    "results = model.fit()\n",
    "results.summary2()"
   ]
  },
  {
   "cell_type": "code",
   "execution_count": 6,
   "metadata": {},
   "outputs": [
    {
     "data": {
      "text/plain": [
       "<matplotlib.axes._subplots.AxesSubplot at 0x7ffb515f4a58>"
      ]
     },
     "execution_count": 6,
     "metadata": {},
     "output_type": "execute_result"
    },
    {
     "data": {
      "image/png": "[encoded data removed]",
      "text/plain": [
       "<Figure size 432x288 with 2 Axes>"
      ]
     },
     "metadata": {
      "needs_background": "light"
     },
     "output_type": "display_data"
    }
   ],
   "source": [
    "import seaborn as sns\n",
    "import statsmodels.graphics.correlation as smf2\n",
    "df2corr=df2.corr()\n",
    "sns.heatmap(df2corr)"
   ]
  },
  {
   "cell_type": "markdown",
   "metadata": {},
   "source": [
    "#### Task \n",
    "Again, with your neighbor:\n",
    "- What issues do you see with this model?\n",
    "- What would you change?"
   ]
  },
  {
   "cell_type": "markdown",
   "metadata": {},
   "source": [
    "To learn how to set other coding schemes (or _contrasts_), see: http://statsmodels.sourceforge.net/devel/examples/notebooks/generated/contrasts.html"
   ]
  },
  {
   "cell_type": "markdown",
   "metadata": {},
   "source": [
    "### Polynomials\n",
    "\n",
    "![polynomials](https://sc.cnbcfm.com/applications/cnbc.com/resources/files/2015/12/11/emotionandincome-01_0.png)"
   ]
  },
  {
   "cell_type": "code",
   "execution_count": 10,
   "metadata": {},
   "outputs": [],
   "source": [
    "from sklearn.preprocessing import OneHotEncoder\n",
    "from sklearn.preprocessing import LabelEncoder\n",
    "from sklearn.preprocessing import LabelBinarizer"
   ]
  },
  {
   "cell_type": "code",
   "execution_count": 13,
   "metadata": {},
   "outputs": [],
   "source": [
    "pre_obj_bin =LabelBinarizer()"
   ]
  },
  {
   "cell_type": "code",
   "execution_count": 15,
   "metadata": {},
   "outputs": [
    {
     "data": {
      "text/plain": [
       "LabelBinarizer(neg_label=0, pos_label=1, sparse_output=False)"
      ]
     },
     "execution_count": 15,
     "metadata": {},
     "output_type": "execute_result"
    }
   ],
   "source": [
    "pre_obj_bin.fit(df2['Urban'])"
   ]
  },
  {
   "cell_type": "code",
   "execution_count": 16,
   "metadata": {},
   "outputs": [],
   "source": [
    "test = pre_obj_bin.fit_transform(df2.Urban)"
   ]
  },
  {
   "cell_type": "code",
   "execution_count": 11,
   "metadata": {},
   "outputs": [],
   "source": [
    "from sklearn.preprocessing import PolynomialFeatures"
   ]
  },
  {
   "cell_type": "markdown",
   "metadata": {},
   "source": [
    "`medv ~ lstat + np.square(lstat)`"
   ]
  },
  {
   "cell_type": "code",
   "execution_count": 12,
   "metadata": {},
   "outputs": [],
   "source": [
    "from sklearn.preprocessing import StandardScaler"
   ]
  },
  {
   "cell_type": "markdown",
   "metadata": {},
   "source": [
    "### Evaluating\n",
    "#### Using `statsmodels`\n",
    "\n",
    "![albon2](./img/aic-albon.png)\n",
    "\n",
    "**AIC**: The Akaike Information Criterion. Adjusts the log-likelihood based on the number of observations and the complexity of the model.\n",
    "\n",
    "\n",
    "**BIC**:\tThe Bayesian Information Criterion. Similar to the AIC, but has a higher penalty for models with more parameters.\n",
    "\n",
    "Want to be lower. Lower is better.\n",
    "\n",
    "`results.aic`<br>\n",
    "`results.bic`\n",
    "\n",
    "![r-sqared](https://qph.fs.quoracdn.net/main-qimg-b932057f732059158062cf0ad9c1719f.webp)\n",
    "\n",
    "![adj-r-sqr](https://i.stack.imgur.com/BTGK6.png)\n",
    "\n",
    "`results.rsquared()`<br>\n",
    "`results.rsquared_adj()`\n"
   ]
  },
  {
   "cell_type": "code",
   "execution_count": null,
   "metadata": {},
   "outputs": [],
   "source": []
  },
  {
   "cell_type": "code",
   "execution_count": null,
   "metadata": {},
   "outputs": [],
   "source": []
  }
 ],
 "metadata": {
  "anaconda-cloud": {},
  "kernelspec": {
   "display_name": "Python [conda env:learn-env] *",
   "language": "python",
   "name": "conda-env-learn-env-py"
  },
  "language_info": {
   "codemirror_mode": {
    "name": "ipython",
    "version": 3
   },
   "file_extension": ".py",
   "mimetype": "text/x-python",
   "name": "python",
   "nbconvert_exporter": "python",
   "pygments_lexer": "ipython3",
   "version": "3.6.6"
  }
 },
 "nbformat": 4,
 "nbformat_minor": 4
}
